{
 "cells": [
  {
   "cell_type": "code",
   "execution_count": 1,
   "metadata": {},
   "outputs": [],
   "source": [
    "import numpy as np\n",
    "import matplotlib.pyplot as plt\n",
    "from cartopy import crs as ccrs\n",
    "import xarray as xr\n",
    "\n",
    "from global_land_mask import globe"
   ]
  },
  {
   "cell_type": "code",
   "execution_count": 2,
   "metadata": {},
   "outputs": [],
   "source": [
    "def lon360to180_xr(ds,lonname='lon'):\n",
    "\t# Based on https://stackoverflow.com/questions/53345442/about-changing-longitude-array-from-0-360-to-180-to-180-with-python-xarray\n",
    "\tds.coords[lonname] = (ds.coords[lonname] + 180) % 360 - 180\n",
    "\tds = ds.sortby(ds[lonname])\n",
    "\treturn ds\n",
    "\n",
    "def detrend(da, dim='time', deg=1):\n",
    "    # detrend the dataset da along the time dimension\n",
    "    p = da.polyfit(dim=dim, deg=deg)\n",
    "    fit = xr.polyval(da[dim], p.polyfit_coefficients)\n",
    "    return da - fit\n",
    "\n",
    "#!/usr/bin/env python3\n",
    "# -*- coding: utf-8 -*-\n",
    "\"\"\"\n",
    "\n",
    "Compute the AMV and NASST indices\n",
    "\n",
    "Created on Mon Aug  7 09:17:37 2023\n",
    "\n",
    "@author: gliu\n",
    "\n",
    "\"\"\"\n",
    "\n",
    "import numpy as np\n",
    "from scipy.signal import butter,filtfilt\n",
    "\n",
    "#%% Typical Inputs\n",
    "\n",
    "bbox            = [-80,0,0,60] # Can add go up to 65N if you masked out the ice\n",
    "cutofftime      = 120 # for monthly data, 10 for annual data\n",
    "order           = 6 # I usually play with this number a bit\n",
    "awgt            = \"cos\" # I usually use cosine weighting\n",
    "return_NASST    = True # Return the unsmoothed index so you can have the results\n",
    "runmean         = False # We'll use the low-pass filter this time\n",
    "\n",
    "# Note on SST\n",
    "# SST should be deseasonalized and detrended\n",
    "# Suggested format is a numpy array with dimensions [lon x lat x time], but I tried to modify it for dataarrays, you can test it out\n",
    "\n",
    "\n",
    "#%%\n",
    "\n",
    "def calc_AMV(lon,lat,sst,bbox,order,cutofftime,awgt=\"cos\",runmean=False,return_NASST=False):\n",
    "    \"\"\"\n",
    "    Calculate AMV Index for detrended/anomalized SST data [LON x LAT x Time]\n",
    "    given bounding box [bbox]. Applies cosine area weighing.\n",
    "\n",
    "    Parameters -----\n",
    "    lon   : ARRAY [LON]                 - Longitude values\n",
    "    lat   : ARRAY [LAT]                 - Latitude Values\n",
    "    sst   : ARRAY [LON x LAT x TIME]    - Sea Surface Temperature Anomalies (deseasonalized and detrended)\n",
    "    bbox  : ARRAY [LonW,LonE,LonS,LonN] - Bounding Box for Area Average\n",
    "    order : INT                         - Butterworth Filter Order\n",
    "    cutofftime : INT                    - Filter Cutoff, expressed in same timesteps as input data\n",
    "    awgt : INT (0,1,2)                  - Type of Area weighting [None,\"cos\",\"cos2\"]\n",
    "    runmean : bool                      - Set to True to do simple running mean\n",
    "    return_NASST : bool                 - Set to True to return NASST Index\n",
    "    \n",
    "    Returns -----\n",
    "    amv    : ARRAY [TIME]                - AMV Index (Not Standardized)\n",
    "    nasst  : ARRAY [TIME]                - NASST Index (Not Standardized)\n",
    "\n",
    "    # Dependencies\n",
    "    functions: area_avg, packages: numpy, scipy.signal.butter/filtfilt\n",
    "    \"\"\"\n",
    "    # Take the area-weighted average\n",
    "    nasst = area_avg(sst,bbox,lon,lat,awgt)\n",
    "    \n",
    "    # Design Butterworth Lowpass Filter\n",
    "    filtfreq = len(nasst)/cutofftime\n",
    "    nyquist  = len(nasst)/2\n",
    "    cutoff   = filtfreq/nyquist\n",
    "    b,a      = butter(order,cutoff,btype=\"lowpass\")\n",
    "    \n",
    "    # Compute AMV Index\n",
    "    if runmean:\n",
    "        amv = np.convolve(nasst,np.ones(cutofftime)/cutofftime,mode='same')\n",
    "    else:\n",
    "        amv = filtfilt(b,a,nasst)\n",
    "    if return_NASST:\n",
    "        return amv,nasst\n",
    "    return amv\n",
    "\n",
    "def area_avg(data,bbox,lon,lat,wgt,xr=True,\n",
    "             latname=\"lat\",lonname=\"lon\"):\n",
    "    \n",
    "    \"\"\"\n",
    "    Function to find the area average of [data] within bounding box [bbox], \n",
    "    based on wgt type (see inputs)\n",
    "    \n",
    "    Inputs:\n",
    "        1) data: target array [lon x lat x otherdims]\n",
    "        2) bbox: bounding box [lonW, lonE, latS, latN]\n",
    "        3) lon:  longitude coordinate\n",
    "        4) lat:  latitude coodinate\n",
    "        5) wgt:  number to indicate weight type\n",
    "                    None = no weighting\n",
    "                    \"cos\" = cos(lat)\n",
    "                    \"cos2\" = sqrt(cos(lat))\n",
    "        6) xr      : BOOL   - Set to True if input is xr.DataSet or xr.DataArray\n",
    "        7) latname : STR    - Name of latitude dimension\n",
    "        8) lonname : STR    - Name of longitude dimension\n",
    "    \n",
    "    Output:\n",
    "        1) data_aa: Area-weighted array of size [otherdims]\n",
    "    \"\"\"\n",
    "    # Select the region\n",
    "    if xr: # xarray DataSet or DataArray # Read to numpy array\n",
    "        sel_data    = data.sel(**{latname : slice(bbox[2],bbox[3]),lonname : slice(bbox[0],bbox[1])})\n",
    "        lonr,latr    = sel_data[lonname].values,sel_data[latname].values\n",
    "        sel_data    = sel_data.transpose(lonname,latname,'time')\n",
    "        sel_data    = sel_data.values\n",
    "        \n",
    "    else:\n",
    "        # Find lat/lon indices \n",
    "        kw          = np.abs(lon - bbox[0]).argmin()\n",
    "        ke          = np.abs(lon - bbox[1]).argmin()\n",
    "        ks          = np.abs(lat - bbox[2]).argmin()\n",
    "        kn          = np.abs(lat - bbox[3]).argmin()\n",
    "        \n",
    "        # Select the region\n",
    "        sel_data    = data[kw:ke+1,ks:kn+1,:]\n",
    "        lonr        = lon[kw:ke+1]\n",
    "        latr        = lat[ks:kn+1]\n",
    "        \n",
    "    # If wgt == 1, apply area-weighting \n",
    "    if wgt is not None:\n",
    "        \n",
    "        # Make Meshgrid\n",
    "        _,yy = np.meshgrid(lonr,latr)\n",
    "        \n",
    "        # Calculate Area Weights (cosine of latitude)\n",
    "        if wgt == \"cos\":\n",
    "            wgta = np.cos(np.radians(yy)).T\n",
    "        elif wgt == \"cos2\":\n",
    "            wgta = np.sqrt(np.cos(np.radians(yy))).T\n",
    "        \n",
    "        # Remove nanpts from weight, ignoring any pt with nan in otherdims\n",
    "        nansearch = np.sum(sel_data,2) # Sum along otherdims\n",
    "        wgta[np.isnan(nansearch)] = 0\n",
    "        \n",
    "        # Apply area weights\n",
    "        sel_data  = sel_data * wgta[:,:,None]\n",
    "    \n",
    "    # Take average over lon and lat\n",
    "    if wgt is not None:\n",
    "\n",
    "        # Sum weights to get total area\n",
    "        sel_lat  = np.sum(wgta,(0,1))\n",
    "        \n",
    "        # Sum weighted values\n",
    "        data_aa = np.nansum(sel_data/sel_lat,axis=(0,1))\n",
    "    else:\n",
    "        # Take explicit average\n",
    "        data_aa = np.nanmean(sel_data,(0,1))\n",
    "    return data_aa"
   ]
  },
  {
   "cell_type": "code",
   "execution_count": 3,
   "metadata": {},
   "outputs": [],
   "source": [
    "sst = xr.open_mfdataset(\"/data/datasets/obs/ERA5/skin_temperature/mon/*\").skt.load()\n",
    "sst= sst.reindex(lat=list(reversed(sst.lat)))\n",
    "sst = lon360to180_xr(sst)\n",
    "# Mask land points\n",
    "x = sst.lon.to_numpy()\n",
    "x,y = np.meshgrid(x,sst.lat)\n",
    "sst = sst.where(globe.is_ocean(y,x)) ## mask out land values \n",
    "sst_detrend = detrend(sst)\n"
   ]
  },
  {
   "cell_type": "code",
   "execution_count": 4,
   "metadata": {},
   "outputs": [],
   "source": [
    "mon_deseason = (sst_detrend.groupby('time.month') - sst_detrend.groupby('time.month').mean())\n",
    "anomalies = mon_deseason - mon_deseason.mean(dim=['time'])"
   ]
  },
  {
   "cell_type": "code",
   "execution_count": 5,
   "metadata": {},
   "outputs": [],
   "source": [
    "AMV_index = calc_AMV(anomalies.lon, anomalies.lat, anomalies, [-80,0,0,60], 6, 120)"
   ]
  },
  {
   "cell_type": "code",
   "execution_count": 6,
   "metadata": {},
   "outputs": [
    {
     "data": {
      "text/plain": [
       "Text(0, 0.5, 'AMV index')"
      ]
     },
     "execution_count": 6,
     "metadata": {},
     "output_type": "execute_result"
    },
    {
     "data": {
      "image/png": "[encoded data removed]",
      "text/plain": [
       "<Figure size 1100x700 with 1 Axes>"
      ]
     },
     "metadata": {},
     "output_type": "display_data"
    }
   ],
   "source": [
    "fig,ax = plt.subplots(figsize=(11,7))\n",
    "ax.plot(sst.time,AMV_index)\n",
    "#plt.plot(nino34.sel(time=nino_date).time,nino34.sel(time=nino_date),'o',markersize=5)\n",
    "#plt.plot(nino34.sel(time=nina_date).time,nino34.sel(time=nina_date),'o',markersize=5)\n",
    "plt.xlim(sst.isel(time=59).time, sst.isel(time=len(AMV_index)-60).time)\n",
    "plt.xlabel('Date', fontsize=12)\n",
    "plt.ylabel('AMV index', fontsize=12)"
   ]
  },
  {
   "cell_type": "code",
   "execution_count": 7,
   "metadata": {},
   "outputs": [],
   "source": [
    "AMV_index = xr.DataArray(AMV_index, coords = [sst.time], dims=['time'])"
   ]
  },
  {
   "cell_type": "code",
   "execution_count": 8,
   "metadata": {},
   "outputs": [
    {
     "data": {
      "text/plain": [
       "'/work/users/gcerato/ICTP/'"
      ]
     },
     "execution_count": 8,
     "metadata": {},
     "output_type": "execute_result"
    }
   ],
   "source": [
    "# Save the outputs\n",
    "dataset_name = \"ERA5_1x1\"\n",
    "\n",
    "AMV_index.to_netcdf(\"./AMVindex_\" + dataset_name + \".nc\") #netCDF format\n",
    "\"/work/users/gcerato/ICTP/\""
   ]
  },
  {
   "cell_type": "code",
   "execution_count": null,
   "metadata": {},
   "outputs": [],
   "source": []
  },
  {
   "cell_type": "code",
   "execution_count": null,
   "metadata": {},
   "outputs": [],
   "source": []
  }
 ],
 "metadata": {
  "kernelspec": {
   "display_name": "Python 3",
   "language": "python",
   "name": "python3"
  },
  "language_info": {
   "codemirror_mode": {
    "name": "ipython",
    "version": 3
   },
   "file_extension": ".py",
   "mimetype": "text/x-python",
   "name": "python",
   "nbconvert_exporter": "python",
   "pygments_lexer": "ipython3",
   "version": "3.10.12"
  },
  "orig_nbformat": 4
 },
 "nbformat": 4,
 "nbformat_minor": 2
}
