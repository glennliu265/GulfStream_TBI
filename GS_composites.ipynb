{
 "cells": [
  {
   "cell_type": "markdown",
   "id": "3301947a",
   "metadata": {},
   "source": [
    "# Script to create composites of SST gradient based on ENSO phase"
   ]
  },
  {
   "cell_type": "code",
   "execution_count": 1,
   "id": "1080db62",
   "metadata": {},
   "outputs": [],
   "source": [
    "import numpy as np\n",
    "import matplotlib.pyplot as plt\n",
    "from cartopy import crs as ccrs\n",
    "import xarray as xr\n",
    "\n",
    "from grad_funcs import get_gs_coords_alltime,get_total_gradient\n",
    "from global_land_mask import globe"
   ]
  },
  {
   "cell_type": "code",
   "execution_count": null,
   "id": "bedb421b-7d70-45b5-a47a-a5339c7a2f95",
   "metadata": {
    "scrolled": true,
    "tags": []
   },
   "outputs": [],
   "source": [
    "## months to perform analysis, for full year set analysis_months = range(1,13)\n",
    "\n",
    "analysis_months = [2]\n",
    "figtitle = 'SST_CESM2deg_Feb.png'\n",
    "\n",
    "\n",
    "#dslink = '/Users/noahrosenberg/Downloads/era5_sst_1940_2022_1deg.nc'\n",
    "dslink = \n",
    "unit_conv = 100 #unit scaling for the gradient, set to 1/1000 for m**-1 or 100 for (100 km)**-1\n",
    "nroll = 1\n",
    "\n",
    "\n",
    "#ds = xr.load_dataset(f'{dslink}',engine='netcdf4')\n",
    "ds = xr.load_dataset(f'{dslink}',engine='netcdf4')\n",
    "ds = ds.where(ds.time.dt.month.isin(analysis_months))"
   ]
  },
  {
   "cell_type": "code",
   "execution_count": null,
   "id": "6cd17cc3-4a77-44d0-938b-2ad10331e293",
   "metadata": {
    "scrolled": true,
    "tags": []
   },
   "outputs": [],
   "source": [
    "ds.load()\n",
    "\n",
    "sst = ds.TS # set to data variable you want to look at\n",
    "\n",
    "lons = ds.lon #rename based on latitude/longitude variables\n",
    "lats = ds.lat\n",
    "latname = 'lat' #also rename these for grad calculation function\n",
    "lonname = 'lon'\n",
    "\n",
    "x = lons.to_numpy()\n",
    "x = np.where(x>180,x-360,x)\n",
    "x,y = np.meshgrid(x,lats)\n",
    "sst = sst.where(globe.is_ocean(y,x)) ## mask out land values \n",
    "\n",
    "nino_dates = np.load('ninodates.npy',allow_pickle=True) #read in files generated from Nino3.4.ipynb containing ENSO dates\n",
    "nina_dates = np.load('ninadates.npy',allow_pickle=True)"
   ]
  },
  {
   "cell_type": "code",
   "execution_count": null,
   "id": "4db2bcce",
   "metadata": {},
   "outputs": [],
   "source": [
    "## get dates from Nino script and dataarray into same format\n",
    "\n",
    "\n",
    "\n",
    "nino_months = nino_dates.astype('datetime64[M]')\n",
    "\n",
    "year0 = sst.time.dt.year.min()\n",
    "year0 = int(year0)\n",
    "\n",
    "nino_indices = nino_months.astype('int')+(1970-year0)*12\n",
    "\n",
    "sst_month_indices = (sst.time.dt.year-year0)*12 + sst.time.dt.month\n",
    "\n",
    "sst_nino = sst.where(sst_month_indices.isin(nino_indices),drop=True)\n",
    "sst_nino = sst_nino"
   ]
  },
  {
   "cell_type": "code",
   "execution_count": null,
   "id": "8861cdf1",
   "metadata": {},
   "outputs": [],
   "source": [
    "fig,ax = plt.subplots(figsize=(10,10),subplot_kw={'projection':ccrs.PlateCarree()})\n",
    "im = ax.pcolormesh(lons,lats,sst_nino.mean('time').where(globe.is_ocean(y,x)),transform=ccrs.PlateCarree())\n",
    "#im2 = ax.contour(sst.lon,sst.lat,tot_grad.mean('time'),levels=(1,288),c='r')\n",
    "\n",
    "ax.set_extent((-80,-40,20,75))\n",
    "plt.colorbar(im,ax=ax)\n",
    "ax.coastlines()"
   ]
  },
  {
   "cell_type": "code",
   "execution_count": null,
   "id": "464e64cc",
   "metadata": {},
   "outputs": [],
   "source": [
    "\n",
    "\n",
    "nina_months = nina_dates.astype('datetime64[M]')\n",
    "\n",
    "year0 = sst.time.dt.year.min()\n",
    "year0 = int(year0)\n",
    "\n",
    "nina_indices = nina_months.astype('int')+(1970-year0)*12\n",
    "\n",
    "sst_month_indices = (sst.time.dt.year-year0)*12 + sst.time.dt.month\n",
    "\n",
    "sst_nina = sst.where(sst_month_indices.isin(nina_indices),drop=True)"
   ]
  },
  {
   "cell_type": "code",
   "execution_count": null,
   "id": "293d9e17",
   "metadata": {},
   "outputs": [],
   "source": [
    "from matplotlib import colors\n",
    "from cartopy import feature\n",
    "\n",
    "# plot difference in gradients between 2 composites\n",
    "\n",
    "nina_grad = get_total_gradient(sst_nina,nroll,latname=latname,lonname=lonname).mean('time')*unit_conv\n",
    "nino_grad = get_total_gradient(sst,nroll,latname=latname,lonname=lonname).mean('time')*unit_conv\n",
    "\n",
    "fig,ax = plt.subplots(figsize=(6,5),subplot_kw={'projection':ccrs.PlateCarree()})\n",
    "im = ax.pcolormesh(lons,lats,\n",
    "                   nino_grad-nina_grad,\n",
    "                   transform=ccrs.PlateCarree(),\n",
    "                   #vmin=0,vmax=0.03,\n",
    "                   cmap=\"RdBu_r\",norm=colors.CenteredNorm(0,0.3))#(0,0.0005))#,cmap='RdBu_r')\n",
    "ax.coastlines()\n",
    "ax.add_feature(feature.LAND,facecolor='k')#,transform=ccrs.PlateCarree())\n",
    "\n",
    "#im2 = ax.contour(sst.longitude,sst.latitude,sst.mean('time'),levels=20,colors='k',linewidths=0.5)\n",
    "\n",
    "#im2 = ax.contour(sst.lon,sst.lat,tot_grad.mean('time'),levels=(1,288),c='r')\n",
    "\n",
    "ax.set_extent((-76,-40,31,48))\n",
    "plt.colorbar(im,ax=ax,fraction=0.02, pad=0.04,extend='both',\n",
    "             #label = r'$|\\nabla$SHF| (J m$^{-3}$)')#' (100 km)$^{-1}$)')\n",
    "             label = r'$|\\nabla$SST| ($\\degree$ C (100 km)$^{-1}$)')\n",
    "ax.set_title('Difference in SST gradient (composite, Nino-Nina)',fontsize=10)\n",
    "plt.tight_layout()\n",
    "plt.savefig(figtitle)\n",
    "\n",
    "plt.show()\n",
    "\n"
   ]
  },
  {
   "cell_type": "code",
   "execution_count": null,
   "id": "7a910033",
   "metadata": {},
   "outputs": [],
   "source": []
  }
 ],
 "metadata": {
  "kernelspec": {
   "display_name": "Python 3 (ipykernel)",
   "language": "python",
   "name": "python3"
  },
  "language_info": {
   "codemirror_mode": {
    "name": "ipython",
    "version": 3
   },
   "file_extension": ".py",
   "mimetype": "text/x-python",
   "name": "python",
   "nbconvert_exporter": "python",
   "pygments_lexer": "ipython3",
   "version": "3.11.4"
  }
 },
 "nbformat": 4,
 "nbformat_minor": 5
}
