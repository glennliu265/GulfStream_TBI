{
 "cells": [
  {
   "cell_type": "code",
   "execution_count": 2,
   "id": "6396245e",
   "metadata": {},
   "outputs": [],
   "source": [
    "import xarray as xr\n",
    "import numpy as np\n",
    "from matplotlib import pyplot as plt\n",
    "import warnings \n",
    "warnings.filterwarnings('ignore')"
   ]
  },
  {
   "cell_type": "code",
   "execution_count": 3,
   "id": "76350441",
   "metadata": {},
   "outputs": [],
   "source": [
    "path = '/home/esp-shared-a/Distribution/Workshops/cli_dy_summer_school_2023/observations/surface/era5'"
   ]
  },
  {
   "cell_type": "code",
   "execution_count": null,
   "id": "8b187151",
   "metadata": {},
   "outputs": [],
   "source": [
    "sst = xr.open_dataarray(f'{path}/era5_sst_1940_2022_1deg.nc',engine='netcdf4')"
   ]
  },
  {
   "cell_type": "markdown",
   "id": "9add24e5",
   "metadata": {},
   "source": [
    "import cartopy.crs as ccrs\n",
    "fig,ax = plt.subplots(2,figsize=(30,30),subplot_kw={'projection':ccrs.PlateCarree()})\n",
    "im = ax[0].pcolormesh(sst.lon,sst.lat,sst.mean('time'))\n",
    "im2 = ax[0].contour(sst.lon,sst.lat,sst.mean('time'),levels=(288,295))\n",
    "plt.colorbar(im,ax=ax[0])\n",
    "im = ax[1].pcolormesh(sst.lon,sst.lat,sst_dec.mean('time'),vmin=280,vmax=295)\n",
    "im2 = ax[1].contour(sst.lon,sst.lat,sst_dec.mean('time'),levels=(285,290),c='r')\n",
    "plt.colorbar(im,ax=ax[1])\n",
    "gl = ax[1].gridlines(crs=ccrs.PlateCarree(), linewidth=2, color='black', alpha=0.5, linestyle='--', draw_labels=True)\n",
    "\n",
    "for i in range(2):\n",
    "    ax[i].set_extent((-80,-40,20,75))"
   ]
  },
  {
   "cell_type": "code",
   "execution_count": null,
   "id": "1b784678",
   "metadata": {},
   "outputs": [],
   "source": [
    "sst_dec = sst.where(sst.time.dt.month==12,drop=True)"
   ]
  },
  {
   "cell_type": "code",
   "execution_count": null,
   "id": "d444d7b5",
   "metadata": {},
   "outputs": [],
   "source": [
    "vgrad = (sst_dec.roll({'lat':1}) - sst_dec.roll({'lat':-1}))/2 "
   ]
  },
  {
   "cell_type": "code",
   "execution_count": null,
   "id": "9b937010",
   "metadata": {},
   "outputs": [],
   "source": [
    "fig,ax = plt.subplots(figsize=(10,10),subplot_kw={'projection':ccrs.PlateCarree()})\n",
    "im = ax.pcolormesh(sst.lon,sst.lat,vgrad.mean('time'))\n",
    "im2 = ax.contour(sst.lon,sst.lat,sst_dec.mean('time'),levels=(1,288),c='r')\n",
    "\n",
    "ax.set_extent((-80,-40,20,75))\n",
    "plt.colorbar(im,ax=ax)"
   ]
  },
  {
   "cell_type": "code",
   "execution_count": null,
   "id": "e32a2da6",
   "metadata": {},
   "outputs": [],
   "source": [
    "# define mean vertical gradient, and find maximum within box (-75,-50,20,50)\n",
    "\n",
    "vgrad_mean = vgrad.mean('time').sel(lat = slice(20,50), lon = slice(360-75,360-50))\n"
   ]
  },
  {
   "cell_type": "code",
   "execution_count": null,
   "id": "48b8b1a8",
   "metadata": {},
   "outputs": [],
   "source": [
    "lats_max = vgrad_mean.argmax(dim='lat')"
   ]
  },
  {
   "cell_type": "code",
   "execution_count": null,
   "id": "05fb5241",
   "metadata": {},
   "outputs": [],
   "source": [
    "sst.lat"
   ]
  },
  {
   "cell_type": "code",
   "execution_count": null,
   "id": "0a082493",
   "metadata": {},
   "outputs": [],
   "source": [
    "fig,ax = plt.subplots(figsize=(10,10),subplot_kw={'projection':ccrs.PlateCarree()})\n",
    "im = ax.pcolormesh(vgrad_mean.lon,vgrad_mean.lat,vgrad_mean)\n",
    "im2 = ax.plot(vgrad_mean.lon,vgrad_mean.lat.isel(lat = lats_max),transform=ccrs.PlateCarree())\n",
    "im2 = ax.contour(sst.lon,sst.lat,sst_dec.mean('time'),levels=20,c='r')\n",
    "ax.set_extent((-80,-40,20,50))\n",
    "ax.coastlines()\n",
    "plt.colorbar(im,ax=ax)"
   ]
  },
  {
   "cell_type": "code",
   "execution_count": null,
   "id": "d9ab20b1",
   "metadata": {},
   "outputs": [],
   "source": [
    "def get_gs_coords(da, m):\n",
    "    \n",
    "    '''\n",
    "    INPUTS:\n",
    "    da: a dataarray containing sst on a regular grid (dimensions nx * ny)\n",
    "    m: desired month for calculation\n",
    "    \n",
    "    OUTPUTS:\n",
    "    \n",
    "    gs_coords: a dataarray containing lat/lon of maximum sst meridional gradient (dimensions nx * 2)\n",
    "    \n",
    "    '''\n",
    "    \n",
    "    #da_mean = da.where(da.time.dt.month == m,drop=True).mean('time')\n",
    "    da_mean = da[m]\n",
    "    \n",
    "    da_grad = (da_mean.roll({'lat':1}) - da_mean.roll({'lat':-1}))/2 \n",
    "    \n",
    "    da_grad = da_grad.sel(lat = slice(20,50), lon = slice(360-75,360-50))\n",
    "    \n",
    "    lats_max = da_grad.argmax(dim='lat')\n",
    "    \n",
    "    lats_max = da_grad.lat.isel(lat = lats_max)\n",
    "    \n",
    "    return lats_max\n",
    "    \n",
    "    "
   ]
  },
  {
   "cell_type": "code",
   "execution_count": null,
   "id": "861626b0",
   "metadata": {},
   "outputs": [],
   "source": [
    "test = get_gs_coords(sst,12)"
   ]
  },
  {
   "cell_type": "code",
   "execution_count": null,
   "id": "c489edef",
   "metadata": {},
   "outputs": [],
   "source": [
    "test"
   ]
  },
  {
   "cell_type": "code",
   "execution_count": null,
   "id": "abbf22b3",
   "metadata": {},
   "outputs": [],
   "source": [
    "fig,axs = plt.subplots(4,3,figsize=(20,20),subplot_kw={'projection':ccrs.PlateCarree()})\n",
    "from matplotlib import colors\n",
    "norm = colors.Normalize(2,5)\n",
    "\n",
    "for i,ax in enumerate(axs.flatten()):\n",
    "    sst_grad = (sst.roll({'lat':1}) - sst.roll({'lat':-1}))/2 \n",
    "    im = ax.pcolormesh(sst.lon,sst.lat,sst_grad.where(sst.time.dt.month == i+1,drop=True).mean('time'),norm=norm)\n",
    "    lats_max = get_gs_coords(sst,i+1)\n",
    "    ax.plot(lats_max.lon,lats_max.lat,'.r',transform=ccrs.PlateCarree())\n",
    "\n",
    "    ax.coastlines()\n",
    "    ax.set_extent((-80,-40,20,50))\n",
    "plt.colorbar(im,ax=ax)"
   ]
  },
  {
   "cell_type": "code",
   "execution_count": null,
   "id": "ad7a2153",
   "metadata": {},
   "outputs": [],
   "source": [
    "import haversine as hs   \n",
    "from haversine import Unit"
   ]
  },
  {
   "cell_type": "code",
   "execution_count": null,
   "id": "fa9af973",
   "metadata": {
    "scrolled": true
   },
   "outputs": [],
   "source": [
    "def get_total_gradient(da, n_roll):\n",
    "    \n",
    "    \n",
    "    \n",
    "    #get haversine distance between longitudes\n",
    "    \n",
    "    lats = da.lat\n",
    "    lats0 = np.squeeze(np.stack((lats,np.zeros(len(lats)))))\n",
    "    lats1 = np.squeeze(np.stack((lats,np.ones(len(lats)))))\n",
    "    xdist = hs.haversine(lats0,lats1,Unit.KILOMETERS)\n",
    "    ydist = 111*(lats[1]-lats[0]) # take distance between latitudes as 111 km\n",
    "    \n",
    "    ygrad = (da_mean.roll({'lat':n_roll}) - da_mean.roll({'lat':-n_roll}))/(2 * n_roll * ydist)\n",
    "    xgrad = (da_mean.roll({'lon':n_roll}) - da_mean.roll({'lon':-n_roll}))/(2 * n_roll * xdist[None,:,None])\n",
    "\n",
    "    grad_tot = (xgrad**2 + ygrad**2)**0.5\n",
    "    \n",
    "    return grad_tot"
   ]
  },
  {
   "cell_type": "code",
   "execution_count": null,
   "id": "24405a49",
   "metadata": {},
   "outputs": [],
   "source": [
    "x,y = np.meshgrid(sst.lon,sst.lat)\n",
    "\n",
    "print(hs.haversine((35,0),(35,1)))\n",
    "print(hs.haversine((45,0),(45,1)))"
   ]
  },
  {
   "cell_type": "code",
   "execution_count": null,
   "id": "75e9a755",
   "metadata": {},
   "outputs": [],
   "source": []
  }
 ],
 "metadata": {
  "kernelspec": {
   "display_name": "Python 3 (ipykernel)",
   "language": "python",
   "name": "python3"
  },
  "language_info": {
   "codemirror_mode": {
    "name": "ipython",
    "version": 3
   },
   "file_extension": ".py",
   "mimetype": "text/x-python",
   "name": "python",
   "nbconvert_exporter": "python",
   "pygments_lexer": "ipython3",
   "version": "3.10.8"
  }
 },
 "nbformat": 4,
 "nbformat_minor": 5
}
